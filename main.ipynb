{
 "cells": [
  {
   "cell_type": "markdown",
   "id": "edc16375",
   "metadata": {},
   "source": [
    "Loading"
   ]
  },
  {
   "cell_type": "code",
   "execution_count": 2,
   "id": "f7ec6ffe",
   "metadata": {},
   "outputs": [],
   "source": [
    "import joblib\n",
    "import numpy as np\n",
    "import pandas as pd\n",
    "import matplotlib.pyplot as plt\n",
    "import seaborn as sns\n",
    "from sklearn.preprocessing import RobustScaler, StandardScaler, MaxAbsScaler, MinMaxScaler, OneHotEncoder, OrdinalEncoder\n",
    "from sklearn.model_selection import KFold, GridSearchCV\n",
    "\n",
    "from dataset.load import load_df\n",
    "from utils import evaluate\n",
    "\n",
    "\n",
    "from sklearn.linear_model import LinearRegression\n",
    "from sklearn.ensemble import RandomForestRegressor\n",
    "from sklearn.model_selection import cross_validate\n",
    "\n",
    "from sklearn.pipeline import Pipeline\n",
    "from sklearn.compose import ColumnTransformer"
   ]
  },
  {
   "cell_type": "code",
   "execution_count": 3,
   "id": "fcf5c26d",
   "metadata": {},
   "outputs": [],
   "source": [
    "scoring = [\"neg_root_mean_squared_error\",  \n",
    "            \"neg_mean_absolute_error\", \"r2\"]"
   ]
  },
  {
   "cell_type": "code",
   "execution_count": 4,
   "id": "c9ded089",
   "metadata": {},
   "outputs": [
    {
     "name": "stdout",
     "output_type": "stream",
     "text": [
      "Dataframe shape: (13956, 26)\n"
     ]
    },
    {
     "data": {
      "text/html": [
       "<div>\n",
       "<style scoped>\n",
       "    .dataframe tbody tr th:only-of-type {\n",
       "        vertical-align: middle;\n",
       "    }\n",
       "\n",
       "    .dataframe tbody tr th {\n",
       "        vertical-align: top;\n",
       "    }\n",
       "\n",
       "    .dataframe thead th {\n",
       "        text-align: right;\n",
       "    }\n",
       "</style>\n",
       "<table border=\"1\" class=\"dataframe\">\n",
       "  <thead>\n",
       "    <tr style=\"text-align: right;\">\n",
       "      <th></th>\n",
       "      <th>RemoteWork</th>\n",
       "      <th>EdLevel</th>\n",
       "      <th>YearsCodePro</th>\n",
       "      <th>Country</th>\n",
       "      <th>Age</th>\n",
       "      <th>Salary</th>\n",
       "      <th>Developer, full-stack</th>\n",
       "      <th>Developer, back-end</th>\n",
       "      <th>JavaScript</th>\n",
       "      <th>SQL</th>\n",
       "      <th>...</th>\n",
       "      <th>PHP</th>\n",
       "      <th>Go</th>\n",
       "      <th>PowerShell</th>\n",
       "      <th>C++</th>\n",
       "      <th>Amazon Web Services (AWS)</th>\n",
       "      <th>Microsoft Azure</th>\n",
       "      <th>Google Cloud</th>\n",
       "      <th>Cloudflare</th>\n",
       "      <th>Docker</th>\n",
       "      <th>npm</th>\n",
       "    </tr>\n",
       "  </thead>\n",
       "  <tbody>\n",
       "    <tr>\n",
       "      <th>379</th>\n",
       "      <td>Remote</td>\n",
       "      <td>Master’s degree</td>\n",
       "      <td>6.0</td>\n",
       "      <td>Other</td>\n",
       "      <td>35-44 years old</td>\n",
       "      <td>91295.0</td>\n",
       "      <td>0.0</td>\n",
       "      <td>0.0</td>\n",
       "      <td>1.0</td>\n",
       "      <td>1.0</td>\n",
       "      <td>...</td>\n",
       "      <td>0.0</td>\n",
       "      <td>0.0</td>\n",
       "      <td>0.0</td>\n",
       "      <td>0.0</td>\n",
       "      <td>1.0</td>\n",
       "      <td>0.0</td>\n",
       "      <td>0.0</td>\n",
       "      <td>1.0</td>\n",
       "      <td>0.0</td>\n",
       "      <td>0.0</td>\n",
       "    </tr>\n",
       "    <tr>\n",
       "      <th>385</th>\n",
       "      <td>Remote</td>\n",
       "      <td>Master’s degree</td>\n",
       "      <td>17.0</td>\n",
       "      <td>France</td>\n",
       "      <td>35-44 years old</td>\n",
       "      <td>53703.0</td>\n",
       "      <td>0.0</td>\n",
       "      <td>1.0</td>\n",
       "      <td>0.0</td>\n",
       "      <td>0.0</td>\n",
       "      <td>...</td>\n",
       "      <td>0.0</td>\n",
       "      <td>0.0</td>\n",
       "      <td>0.0</td>\n",
       "      <td>0.0</td>\n",
       "      <td>1.0</td>\n",
       "      <td>0.0</td>\n",
       "      <td>1.0</td>\n",
       "      <td>0.0</td>\n",
       "      <td>1.0</td>\n",
       "      <td>0.0</td>\n",
       "    </tr>\n",
       "  </tbody>\n",
       "</table>\n",
       "<p>2 rows × 26 columns</p>\n",
       "</div>"
      ],
      "text/plain": [
       "    RemoteWork          EdLevel  YearsCodePro Country              Age  \\\n",
       "379     Remote  Master’s degree           6.0   Other  35-44 years old   \n",
       "385     Remote  Master’s degree          17.0  France  35-44 years old   \n",
       "\n",
       "      Salary  Developer, full-stack  Developer, back-end  JavaScript  SQL  \\\n",
       "379  91295.0                    0.0                  0.0         1.0  1.0   \n",
       "385  53703.0                    0.0                  1.0         0.0  0.0   \n",
       "\n",
       "     ...  PHP   Go  PowerShell  C++  Amazon Web Services (AWS)  \\\n",
       "379  ...  0.0  0.0         0.0  0.0                        1.0   \n",
       "385  ...  0.0  0.0         0.0  0.0                        1.0   \n",
       "\n",
       "     Microsoft Azure  Google Cloud  Cloudflare  Docker  npm  \n",
       "379              0.0           0.0         1.0     0.0  0.0  \n",
       "385              0.0           1.0         0.0     1.0  0.0  \n",
       "\n",
       "[2 rows x 26 columns]"
      ]
     },
     "execution_count": 4,
     "metadata": {},
     "output_type": "execute_result"
    }
   ],
   "source": [
    "df = load_df()\n",
    "print(f\"Dataframe shape: {df.shape}\")\n",
    "df.head(2)"
   ]
  },
  {
   "cell_type": "markdown",
   "id": "f89c41fe",
   "metadata": {},
   "source": [
    "Get Train-Test split"
   ]
  },
  {
   "cell_type": "code",
   "execution_count": 5,
   "id": "60536124",
   "metadata": {},
   "outputs": [
    {
     "name": "stdout",
     "output_type": "stream",
     "text": [
      "*************************\n",
      "Train shape: (13258, 26)\n",
      "Test shape: (698, 26)\n",
      "*************************\n",
      "X_train shape: (13258, 25)\n",
      "y_train shape: (13258,)\n",
      "X_test shape: (698, 25)\n",
      "y_test shape: (698,)\n",
      "*************************\n"
     ]
    }
   ],
   "source": [
    "print(\"*\" * 25)\n",
    "train = df.sample(frac=0.95, random_state=42)\n",
    "test = df.drop(train.index)\n",
    "\n",
    "print(f\"Train shape: {train.shape}\")\n",
    "print(f\"Test shape: {test.shape}\")\n",
    "print(\"*\" * 25)\n",
    "\n",
    "X_train = train.drop([\"Salary\"], axis=1)\n",
    "y_train = train[\"Salary\"].values\n",
    "X_test= test.drop([\"Salary\"], axis=1)\n",
    "y_test = test[\"Salary\"].values\n",
    "\n",
    "print(f\"X_train shape: {X_train.shape}\")\n",
    "print(f\"y_train shape: {y_train.shape}\")\n",
    "print(f\"X_test shape: {X_test.shape}\")\n",
    "print(f\"y_test shape: {y_test.shape}\")\n",
    "print(\"*\" * 25)"
   ]
  },
  {
   "cell_type": "markdown",
   "id": "23fb631e",
   "metadata": {},
   "source": [
    "Model Comparision"
   ]
  },
  {
   "cell_type": "markdown",
   "id": "f043c978",
   "metadata": {},
   "source": [
    "1. Linear Regression"
   ]
  },
  {
   "cell_type": "code",
   "execution_count": 6,
   "id": "9677d90a",
   "metadata": {},
   "outputs": [
    {
     "name": "stdout",
     "output_type": "stream",
     "text": [
      "Linear Regression\n",
      "RMSE: mean: 49090.8123522057 | [48684.28606794 48498.36604942 49392.76915219 49091.05198489\n",
      " 49787.58850658]\n",
      "MAE: mean: 37716.050668072545 | [37577.90827987 37266.55570537 37888.40004428 37820.25780849\n",
      " 38027.13150235]\n",
      "R2-score: mean: 0.33191184879707525 | [0.35028878 0.31416882 0.33863824 0.31945987 0.33700353]\n",
      "*********************************************************************\n",
      "\n"
     ]
    }
   ],
   "source": [
    "# Preprocessing \n",
    "transform = ColumnTransformer([\n",
    "    (\"label\", OrdinalEncoder(), [\"EdLevel\", \"Country\", \"Age\"]),\n",
    "    (\"onehot\", OneHotEncoder(sparse_output=False, handle_unknown=\"ignore\"), [\"RemoteWork\"]),\n",
    "    (\"scaler\", MaxAbsScaler(), [\"YearsCodePro\"])\n",
    "], remainder=\"passthrough\")\n",
    "\n",
    "# Model\n",
    "model = LinearRegression()\n",
    "\n",
    "# Pipeline\n",
    "pipe = Pipeline([\n",
    "    (\"preprocess\", transform),\n",
    "    (\"model\", model)\n",
    "])\n",
    "\n",
    "# Cross-validation\n",
    "kfold = KFold(n_splits=5, shuffle=True, random_state=42)\n",
    "scoring = [\"neg_root_mean_squared_error\", \"neg_mean_absolute_error\", \"r2\"]\n",
    "\n",
    "scores = cross_validate(pipe, X_train, y_train, cv=kfold, scoring=scoring, n_jobs=2)\n",
    "\n",
    "# Evaluation\n",
    "print(\"Linear Regression\")\n",
    "print(f\"RMSE: mean: {-1 * np.mean(scores['test_neg_root_mean_squared_error'])} | {-1 * scores['test_neg_root_mean_squared_error']}\")\n",
    "print(f\"MAE: mean: {-1 * np.mean(scores['test_neg_mean_absolute_error'])} | {-1 * scores['test_neg_mean_absolute_error']}\")\n",
    "print(f\"R2-score: mean: {np.mean(scores['test_r2'])} | {scores['test_r2']}\")\n",
    "print(\"*\" * 69)\n",
    "print()\n"
   ]
  },
  {
   "cell_type": "markdown",
   "id": "61cb07cc",
   "metadata": {},
   "source": [
    "2. RandomForest"
   ]
  },
  {
   "cell_type": "code",
   "execution_count": 7,
   "id": "fb43babe",
   "metadata": {},
   "outputs": [
    {
     "name": "stdout",
     "output_type": "stream",
     "text": [
      "RandomForest\n",
      "RMSE: mean: 40052.235734297035 | [39151.67292833 39567.25516228 40348.2469979  40388.74317898\n",
      " 40805.26040399]\n",
      "MAE: mean: 29061.741365731188 | [28823.51901277 29137.91748318 28729.67214195 29200.89554435\n",
      " 29416.7026464 ]\n",
      "R2-score: mean: 0.555198361133293 | [0.57981224 0.54350623 0.5586718  0.53935142 0.55465012]\n",
      "*********************************************************************\n",
      "\n"
     ]
    }
   ],
   "source": [
    "transform = ColumnTransformer([\n",
    "    (\"label\", OrdinalEncoder(), [\"EdLevel\", \"Country\", \"Age\"]),\n",
    "    (\"onehot\", OneHotEncoder(sparse_output=False, handle_unknown=\"ignore\"), [\"RemoteWork\"]),\n",
    "    (\"scaler\", MaxAbsScaler(), [\"YearsCodePro\"])\n",
    "], remainder=\"passthrough\")\n",
    "\n",
    "model = RandomForestRegressor(n_estimators=200, n_jobs=2, random_state=42)\n",
    "\n",
    "pipe = Pipeline([\n",
    "    (\"preprocess\", transform),\n",
    "    (\"model\", model)\n",
    "])\n",
    "\n",
    "kfold = KFold(n_splits=5, shuffle=True, random_state=42)\n",
    "\n",
    "scores = cross_validate(pipe, X_train, y_train, cv=kfold, scoring=scoring, n_jobs=2)\n",
    "print(\"RandomForest\")\n",
    "print(f\"RMSE: mean: {-1 * np.mean(scores['test_neg_root_mean_squared_error'])} | {-1 * scores['test_neg_root_mean_squared_error']}\")\n",
    "print(f\"MAE: mean: {-1 * np.mean(scores['test_neg_mean_absolute_error'])} | {-1 * scores['test_neg_mean_absolute_error']}\")\n",
    "print(f\"R2-score: mean: {np.mean(scores['test_r2'])} | {scores['test_r2']}\")\n",
    "print(\"*\" * 69)\n",
    "print()"
   ]
  },
  {
   "cell_type": "markdown",
   "id": "95bb3263",
   "metadata": {},
   "source": [
    "Hyper Parameter Tunning for RandomForest"
   ]
  },
  {
   "cell_type": "code",
   "execution_count": 8,
   "id": "718aa342",
   "metadata": {},
   "outputs": [
    {
     "name": "stdout",
     "output_type": "stream",
     "text": [
      "Fitting 3 folds for each of 324 candidates, totalling 972 fits\n",
      "The best params: {'max_depth': 10, 'max_features': None, 'min_samples_leaf': 4, 'min_samples_split': 10, 'n_estimators': 300}\n",
      "The best score: 0.5718107261442801\n"
     ]
    }
   ],
   "source": [
    "# Preprocessing\n",
    "transform = ColumnTransformer([\n",
    "    (\"label\", OrdinalEncoder(), [\"EdLevel\", \"Country\", \"Age\"]),\n",
    "    (\"onehot\", OneHotEncoder(sparse_output=False, handle_unknown=\"ignore\"), [\"RemoteWork\"]),\n",
    "    (\"scaler\", MaxAbsScaler(), [\"YearsCodePro\"])\n",
    "], remainder=\"passthrough\")\n",
    "\n",
    "# Model\n",
    "model = RandomForestRegressor(random_state=42)\n",
    "\n",
    "# Hyperparameter grid\n",
    "params = {\n",
    "    \"n_estimators\": [100, 200, 300],\n",
    "    \"max_depth\": [None, 10, 20, 30],\n",
    "    \"min_samples_split\": [2, 5, 10],\n",
    "    \"min_samples_leaf\": [1, 2, 4],\n",
    "    \"max_features\": [ 'sqrt', 'log2', None]\n",
    "}\n",
    "\n",
    "# Scoring metrics \n",
    "scoring = {\n",
    "    \"r2\": \"r2\",\n",
    "    \"neg_mean_absolute_error\": \"neg_mean_absolute_error\",\n",
    "    \"test_neg_root_mean_squared_error\": \"neg_root_mean_squared_error\"\n",
    "}\n",
    "\n",
    "# GridSearchCV\n",
    "grid = GridSearchCV(\n",
    "    estimator=model,\n",
    "    param_grid=params,\n",
    "    scoring=scoring,\n",
    "    refit=\"r2\",\n",
    "    n_jobs=3,\n",
    "    verbose=1,\n",
    "    cv=3\n",
    ")\n",
    "\n",
    "# Full Pipeline\n",
    "pipe = Pipeline([\n",
    "    (\"preprocess\", transform),\n",
    "    (\"grid\", grid)\n",
    "])\n",
    "\n",
    "# Fit on training data\n",
    "pipe.fit(X_train, y_train)\n",
    "\n",
    "# Results\n",
    "print(f\"The best params: {pipe['grid'].best_params_}\")\n",
    "print(f\"The best score: {pipe['grid'].best_score_}\")\n"
   ]
  },
  {
   "cell_type": "markdown",
   "id": "369cc438",
   "metadata": {},
   "source": [
    "Train & Save Models"
   ]
  },
  {
   "cell_type": "markdown",
   "id": "c77041a1",
   "metadata": {},
   "source": [
    "1. Linear Regression"
   ]
  },
  {
   "cell_type": "code",
   "execution_count": 9,
   "id": "d3639bc3",
   "metadata": {},
   "outputs": [
    {
     "name": "stdout",
     "output_type": "stream",
     "text": [
      "Linear Regression Performance:\n",
      "                         Metrics        Values\n",
      "0  Root Mean Square Error (RMSE)  47134.373925\n",
      "1      Mean Absolute Error (MAE)  36416.950965\n",
      "2                  R2-score (R2)      0.369135\n"
     ]
    },
    {
     "data": {
      "text/plain": [
       "['linear_regression_pipeline.pkl']"
      ]
     },
     "execution_count": 9,
     "metadata": {},
     "output_type": "execute_result"
    }
   ],
   "source": [
    "lr_model = LinearRegression()\n",
    "\n",
    "lr_pipeline = Pipeline([\n",
    "    (\"preprocess\", transform),\n",
    "    (\"model\", lr_model)\n",
    "])\n",
    "\n",
    "lr_pipeline.fit(X_train, y_train)\n",
    "y_pred_lr = lr_pipeline.predict(X_test)\n",
    "\n",
    "print(\"Linear Regression Performance:\")\n",
    "evaluate(y_test, y_pred_lr)\n",
    "\n",
    "# Save the pipeline to a file\n",
    "joblib.dump(lr_pipeline, \"linear_regression_pipeline.pkl\")\n"
   ]
  },
  {
   "cell_type": "markdown",
   "id": "18f27128",
   "metadata": {},
   "source": [
    "2. RandomForest"
   ]
  },
  {
   "cell_type": "code",
   "execution_count": 10,
   "id": "6be26990",
   "metadata": {},
   "outputs": [
    {
     "name": "stdout",
     "output_type": "stream",
     "text": [
      "\n",
      "Random Forest Performance:\n",
      "                         Metrics        Values\n",
      "0  Root Mean Square Error (RMSE)  36860.288037\n",
      "1      Mean Absolute Error (MAE)  26047.812547\n",
      "2                  R2-score (R2)      0.614186\n"
     ]
    },
    {
     "data": {
      "text/plain": [
       "['random_forest_pipeline.pkl']"
      ]
     },
     "execution_count": 10,
     "metadata": {},
     "output_type": "execute_result"
    }
   ],
   "source": [
    "rf_model = RandomForestRegressor(\n",
    "    n_estimators=300,\n",
    "    max_depth=10,\n",
    "    max_features=None,\n",
    "    min_samples_split=10,\n",
    "    min_samples_leaf=4,\n",
    "    random_state=42\n",
    ")\n",
    "\n",
    "rf_pipeline = Pipeline([\n",
    "    (\"preprocess\", transform),\n",
    "    (\"model\", rf_model)\n",
    "])\n",
    "\n",
    "rf_pipeline.fit(X_train, y_train)\n",
    "y_pred_rf = rf_pipeline.predict(X_test)\n",
    "\n",
    "print(\"\\nRandom Forest Performance:\")\n",
    "evaluate(y_test, y_pred_rf)\n",
    "\n",
    "# Save the pipeline to a file\n",
    "joblib.dump(rf_pipeline, \"random_forest_pipeline.pkl\")\n"
   ]
  }
 ],
 "metadata": {
  "kernelspec": {
   "display_name": "venv1",
   "language": "python",
   "name": "python3"
  },
  "language_info": {
   "codemirror_mode": {
    "name": "ipython",
    "version": 3
   },
   "file_extension": ".py",
   "mimetype": "text/x-python",
   "name": "python",
   "nbconvert_exporter": "python",
   "pygments_lexer": "ipython3",
   "version": "3.10.0"
  }
 },
 "nbformat": 4,
 "nbformat_minor": 5
}
